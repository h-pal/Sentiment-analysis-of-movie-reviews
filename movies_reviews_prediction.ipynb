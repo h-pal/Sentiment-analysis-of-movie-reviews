{
 "cells": [
  {
   "cell_type": "markdown",
   "metadata": {},
   "source": [
    "#### Download the pre-trained Glove word embeddings"
   ]
  },
  {
   "cell_type": "code",
   "execution_count": 1,
   "metadata": {
    "colab": {
     "base_uri": "https://localhost:8080/",
     "height": 388
    },
    "colab_type": "code",
    "id": "VF37uw14eajW",
    "outputId": "f79fa519-89bc-431a-e207-60e28760fb08",
    "scrolled": true
   },
   "outputs": [
    {
     "name": "stdout",
     "output_type": "stream",
     "text": [
      "--2020-07-22 08:24:20--  http://nlp.stanford.edu/data/glove.6B.zip\n",
      "Resolving nlp.stanford.edu (nlp.stanford.edu)... 171.64.67.140\n",
      "Connecting to nlp.stanford.edu (nlp.stanford.edu)|171.64.67.140|:80... connected.\n",
      "HTTP request sent, awaiting response... 302 Found\n",
      "Location: https://nlp.stanford.edu/data/glove.6B.zip [following]\n",
      "--2020-07-22 08:24:20--  https://nlp.stanford.edu/data/glove.6B.zip\n",
      "Connecting to nlp.stanford.edu (nlp.stanford.edu)|171.64.67.140|:443... connected.\n",
      "HTTP request sent, awaiting response... 301 Moved Permanently\n",
      "Location: http://downloads.cs.stanford.edu/nlp/data/glove.6B.zip [following]\n",
      "--2020-07-22 08:24:21--  http://downloads.cs.stanford.edu/nlp/data/glove.6B.zip\n",
      "Resolving downloads.cs.stanford.edu (downloads.cs.stanford.edu)... 171.64.64.22\n",
      "Connecting to downloads.cs.stanford.edu (downloads.cs.stanford.edu)|171.64.64.22|:80... connected.\n",
      "HTTP request sent, awaiting response... 200 OK\n",
      "Length: 862182613 (822M) [application/zip]\n",
      "Saving to: ‘glove.6B.zip’\n",
      "\n",
      "glove.6B.zip        100%[===================>] 822.24M  1.93MB/s    in 6m 30s  \n",
      "\n",
      "2020-07-22 08:30:51 (2.11 MB/s) - ‘glove.6B.zip’ saved [862182613/862182613]\n",
      "\n"
     ]
    }
   ],
   "source": [
    "!wget http://nlp.stanford.edu/data/glove.6B.zip"
   ]
  },
  {
   "cell_type": "markdown",
   "metadata": {},
   "source": [
    "#### Unzip the downloaded word embeddings"
   ]
  },
  {
   "cell_type": "code",
   "execution_count": 2,
   "metadata": {
    "colab": {
     "base_uri": "https://localhost:8080/",
     "height": 110
    },
    "colab_type": "code",
    "id": "vUnum1S-ecsX",
    "outputId": "307f2ee4-54d8-4878-a088-40f103113d09",
    "scrolled": true
   },
   "outputs": [
    {
     "name": "stdout",
     "output_type": "stream",
     "text": [
      "Archive:  glove.6B.zip\n",
      "  inflating: glove.6B.50d.txt        \n",
      "  inflating: glove.6B.100d.txt       \n",
      "  inflating: glove.6B.200d.txt       \n",
      "  inflating: glove.6B.300d.txt       \n"
     ]
    }
   ],
   "source": [
    "!unzip glove*.zip"
   ]
  },
  {
   "cell_type": "markdown",
   "metadata": {},
   "source": [
    "## Import the required libraries"
   ]
  },
  {
   "cell_type": "code",
   "execution_count": 3,
   "metadata": {
    "colab": {
     "base_uri": "https://localhost:8080/",
     "height": 36
    },
    "colab_type": "code",
    "id": "O_gYrK4YECT4",
    "outputId": "9041fcf4-57f3-4845-c2e7-2bf11722473f"
   },
   "outputs": [
    {
     "name": "stderr",
     "output_type": "stream",
     "text": [
      "Using TensorFlow backend.\n"
     ]
    }
   ],
   "source": [
    "from keras.preprocessing.text import Tokenizer\n",
    "from keras.preprocessing.sequence import pad_sequences\n",
    "import numpy as np\n",
    "from keras.models import Sequential\n",
    "from keras.layers import Dense,Dropout,LSTM,Embedding\n",
    "from keras import optimizers\n",
    "from keras import metrics\n",
    "import pandas as pd\n",
    "from matplotlib import pyplot"
   ]
  },
  {
   "cell_type": "markdown",
   "metadata": {},
   "source": [
    "### Inputing the dataset"
   ]
  },
  {
   "cell_type": "code",
   "execution_count": 4,
   "metadata": {
    "colab": {},
    "colab_type": "code",
    "id": "3BtHcip60LYL"
   },
   "outputs": [],
   "source": [
    "sf = pd.read_csv(r'..../Downloads/IMDB Dataset.csv')\n",
    "sf.sentiment = [0 if each ==\"negative\" else 1 for each in sf.sentiment]"
   ]
  },
  {
   "cell_type": "markdown",
   "metadata": {},
   "source": [
    "### Preprocessing the dataset"
   ]
  },
  {
   "cell_type": "markdown",
   "metadata": {},
   "source": [
    "This step includes :-\n",
    "\n",
    "i) Using Tokenizer to convert words to vectors\n",
    "\n",
    "ii) Splitting the dataset into train and test set"
   ]
  },
  {
   "cell_type": "code",
   "execution_count": 5,
   "metadata": {
    "colab": {},
    "colab_type": "code",
    "id": "5dyzLeTbFG6C"
   },
   "outputs": [],
   "source": [
    "size= 40000\n",
    "tokenizer = Tokenizer(num_words = None,oov_token=\"<OOV>\")\n",
    "tokenizer.fit_on_texts(sf['review'][:size])\n",
    "word_index = tokenizer.word_index\n",
    "sequences_train = tokenizer.texts_to_sequences(sf['review'][:size])\n",
    "sequences_train = np.array(sequences_train)\n",
    "sequences_train = pad_sequences(sequences_train, maxlen=250, padding=\"pre\", truncating=\"post\")\n",
    "\n",
    "sequences_test = tokenizer.texts_to_sequences(sf['review'][size:])\n",
    "sequences_test = np.array(sequences_test)\n",
    "sequences_test = pad_sequences(sequences_test, maxlen=250, padding=\"pre\", truncating=\"post\")\n",
    "\n",
    "x_train = sequences_train\n",
    "y_train = np.array(sf['sentiment'][:size])\n",
    "y_train = y_train.reshape((y_train.shape[0],1))\n",
    "\n",
    "x_test = sequences_test\n",
    "y_test = np.array(sf['sentiment'][size:])\n",
    "y_test= y_test.reshape((y_test.shape[0],1))"
   ]
  },
  {
   "cell_type": "markdown",
   "metadata": {},
   "source": [
    "### Preparaing the weight matrix of embedding layer"
   ]
  },
  {
   "cell_type": "code",
   "execution_count": 6,
   "metadata": {
    "colab": {
     "base_uri": "https://localhost:8080/",
     "height": 36
    },
    "colab_type": "code",
    "id": "jh3O6V21ITtT",
    "outputId": "176993b3-086a-4d97-87c4-12e3eaf60dc1"
   },
   "outputs": [
    {
     "name": "stdout",
     "output_type": "stream",
     "text": [
      "Loaded 400000 word vectors.\n"
     ]
    }
   ],
   "source": [
    "size_of_vocabulary = len(word_index) + 1\n",
    "embeddings_index = dict()\n",
    "f = open(r'glove.6B.300d.txt',encoding=\"utf8\")\n",
    "\n",
    "for line in f:\n",
    "    values = line.split()\n",
    "    word = values[0]\n",
    "    coefs = np.asarray(values[1:], dtype='float32')\n",
    "    embeddings_index[word] = coefs\n",
    "\n",
    "f.close()\n",
    "print('Loaded %s word vectors.' % len(embeddings_index))\n",
    "\n",
    "embedding_matrix = np.zeros((size_of_vocabulary, 300))\n",
    "\n",
    "for word, i in tokenizer.word_index.items():\n",
    "    embedding_vector = embeddings_index.get(word)\n",
    "    if embedding_vector is not None:\n",
    "        embedding_matrix[i] = embedding_vector"
   ]
  },
  {
   "cell_type": "markdown",
   "metadata": {},
   "source": [
    "## Initializing the model"
   ]
  },
  {
   "cell_type": "markdown",
   "metadata": {},
   "source": [
    "We are using :-\n",
    "\n",
    "i) Sequential model with one non trainable embedding layer, two LSTM layer and one dense layer\n",
    "\n",
    "ii) Dropout to prevent overfitting"
   ]
  },
  {
   "cell_type": "code",
   "execution_count": 7,
   "metadata": {
    "colab": {},
    "colab_type": "code",
    "id": "ew-4Gz_cHFfG"
   },
   "outputs": [],
   "source": [
    "model = Sequential()\n",
    "model.add(Embedding(size_of_vocabulary,300,weights=[embedding_matrix],input_length=250,trainable=False)) \n",
    "model.add(LSTM(64,return_sequences=True,dropout=0.5,recurrent_dropout=0.5))\n",
    "model.add(LSTM(64,dropout=0.5,recurrent_dropout=0.5))\n",
    "model.add(Dense(1,activation='sigmoid'))"
   ]
  },
  {
   "cell_type": "markdown",
   "metadata": {},
   "source": [
    "### Compiling the model"
   ]
  },
  {
   "cell_type": "markdown",
   "metadata": {},
   "source": [
    "We are using binary cross entropy loss function and accuracy for metrics evalation with adam optimizer"
   ]
  },
  {
   "cell_type": "code",
   "execution_count": 8,
   "metadata": {
    "colab": {},
    "colab_type": "code",
    "id": "3J7ZeI-xFNTT"
   },
   "outputs": [],
   "source": [
    "model.compile(loss='binary_crossentropy',optimizer='adam',metrics=['acc'])"
   ]
  },
  {
   "cell_type": "markdown",
   "metadata": {},
   "source": [
    "### Fitting model"
   ]
  },
  {
   "cell_type": "code",
   "execution_count": 9,
   "metadata": {
    "colab": {
     "base_uri": "https://localhost:8080/",
     "height": 1000
    },
    "colab_type": "code",
    "id": "SrzC52XkFQQf",
    "outputId": "38c34c02-25ae-4487-c15b-27c862b67949"
   },
   "outputs": [
    {
     "name": "stdout",
     "output_type": "stream",
     "text": [
      "Epoch 1/200\n",
      "40000/40000 [==============================] - 56s 1ms/step - loss: 0.6765 - acc: 0.5657\n",
      "Epoch 2/200\n",
      "40000/40000 [==============================] - 54s 1ms/step - loss: 0.6221 - acc: 0.6563\n",
      "Epoch 3/200\n",
      "40000/40000 [==============================] - 53s 1ms/step - loss: 0.5860 - acc: 0.6963\n",
      "Epoch 4/200\n",
      "40000/40000 [==============================] - 54s 1ms/step - loss: 0.5616 - acc: 0.7162\n",
      "Epoch 5/200\n",
      "40000/40000 [==============================] - 53s 1ms/step - loss: 0.5469 - acc: 0.7330\n",
      "Epoch 6/200\n",
      "40000/40000 [==============================] - 53s 1ms/step - loss: 0.5367 - acc: 0.7359\n",
      "Epoch 7/200\n",
      "40000/40000 [==============================] - 53s 1ms/step - loss: 0.5279 - acc: 0.7483\n",
      "Epoch 8/200\n",
      "40000/40000 [==============================] - 53s 1ms/step - loss: 0.5157 - acc: 0.7548\n",
      "Epoch 9/200\n",
      "40000/40000 [==============================] - 54s 1ms/step - loss: 0.5108 - acc: 0.7561\n",
      "Epoch 10/200\n",
      "40000/40000 [==============================] - 55s 1ms/step - loss: 0.5031 - acc: 0.7635\n",
      "Epoch 11/200\n",
      "40000/40000 [==============================] - 54s 1ms/step - loss: 0.4948 - acc: 0.7658\n",
      "Epoch 12/200\n",
      "40000/40000 [==============================] - 54s 1ms/step - loss: 0.5009 - acc: 0.7616\n",
      "Epoch 13/200\n",
      "40000/40000 [==============================] - 54s 1ms/step - loss: 0.4913 - acc: 0.7681\n",
      "Epoch 14/200\n",
      "40000/40000 [==============================] - 54s 1ms/step - loss: 0.4890 - acc: 0.7713\n",
      "Epoch 15/200\n",
      "40000/40000 [==============================] - 53s 1ms/step - loss: 0.4971 - acc: 0.7614\n",
      "Epoch 16/200\n",
      "40000/40000 [==============================] - 53s 1ms/step - loss: 0.4816 - acc: 0.7757\n",
      "Epoch 17/200\n",
      "40000/40000 [==============================] - 54s 1ms/step - loss: 0.4723 - acc: 0.7817\n",
      "Epoch 18/200\n",
      "40000/40000 [==============================] - 54s 1ms/step - loss: 0.4647 - acc: 0.7861\n",
      "Epoch 19/200\n",
      "40000/40000 [==============================] - 53s 1ms/step - loss: 0.4563 - acc: 0.7946\n",
      "Epoch 20/200\n",
      "40000/40000 [==============================] - 53s 1ms/step - loss: 0.4558 - acc: 0.7934\n",
      "Epoch 21/200\n",
      "40000/40000 [==============================] - 53s 1ms/step - loss: 0.4511 - acc: 0.7929\n",
      "Epoch 22/200\n",
      "40000/40000 [==============================] - 53s 1ms/step - loss: 0.4441 - acc: 0.7988\n",
      "Epoch 23/200\n",
      "40000/40000 [==============================] - 54s 1ms/step - loss: 0.4373 - acc: 0.8020\n",
      "Epoch 24/200\n",
      "40000/40000 [==============================] - 54s 1ms/step - loss: 0.4462 - acc: 0.7980\n",
      "Epoch 25/200\n",
      "40000/40000 [==============================] - 54s 1ms/step - loss: 0.4420 - acc: 0.7975\n",
      "Epoch 26/200\n",
      "40000/40000 [==============================] - 53s 1ms/step - loss: 0.4293 - acc: 0.8069\n",
      "Epoch 27/200\n",
      "40000/40000 [==============================] - 54s 1ms/step - loss: 0.4300 - acc: 0.8065\n",
      "Epoch 28/200\n",
      "40000/40000 [==============================] - 54s 1ms/step - loss: 0.4335 - acc: 0.8037\n",
      "Epoch 29/200\n",
      "40000/40000 [==============================] - 55s 1ms/step - loss: 0.4201 - acc: 0.8125\n",
      "Epoch 30/200\n",
      "40000/40000 [==============================] - 54s 1ms/step - loss: 0.4216 - acc: 0.8104\n",
      "Epoch 31/200\n",
      "40000/40000 [==============================] - 55s 1ms/step - loss: 0.4161 - acc: 0.8150\n",
      "Epoch 32/200\n",
      "40000/40000 [==============================] - 55s 1ms/step - loss: 0.4132 - acc: 0.8169\n",
      "Epoch 33/200\n",
      "40000/40000 [==============================] - 54s 1ms/step - loss: 0.4096 - acc: 0.8177\n",
      "Epoch 34/200\n",
      "40000/40000 [==============================] - 54s 1ms/step - loss: 0.4081 - acc: 0.8151\n",
      "Epoch 35/200\n",
      "40000/40000 [==============================] - 55s 1ms/step - loss: 0.4032 - acc: 0.8209\n",
      "Epoch 36/200\n",
      "40000/40000 [==============================] - 54s 1ms/step - loss: 0.3960 - acc: 0.8256\n",
      "Epoch 37/200\n",
      "40000/40000 [==============================] - 55s 1ms/step - loss: 0.3966 - acc: 0.8239\n",
      "Epoch 38/200\n",
      "40000/40000 [==============================] - 55s 1ms/step - loss: 0.3955 - acc: 0.8254\n",
      "Epoch 39/200\n",
      "40000/40000 [==============================] - 54s 1ms/step - loss: 0.3971 - acc: 0.8241\n",
      "Epoch 40/200\n",
      "40000/40000 [==============================] - 54s 1ms/step - loss: 0.3920 - acc: 0.8290\n",
      "Epoch 41/200\n",
      "40000/40000 [==============================] - 54s 1ms/step - loss: 0.3910 - acc: 0.8278\n",
      "Epoch 42/200\n",
      "40000/40000 [==============================] - 55s 1ms/step - loss: 0.4000 - acc: 0.8227\n",
      "Epoch 43/200\n",
      "40000/40000 [==============================] - 54s 1ms/step - loss: 0.3909 - acc: 0.8273\n",
      "Epoch 44/200\n",
      "40000/40000 [==============================] - 54s 1ms/step - loss: 0.3888 - acc: 0.8278\n",
      "Epoch 45/200\n",
      "40000/40000 [==============================] - 55s 1ms/step - loss: 0.3912 - acc: 0.8280\n",
      "Epoch 46/200\n",
      "40000/40000 [==============================] - 55s 1ms/step - loss: 0.3821 - acc: 0.8339\n",
      "Epoch 47/200\n",
      "40000/40000 [==============================] - 54s 1ms/step - loss: 0.3858 - acc: 0.8294\n",
      "Epoch 48/200\n",
      "40000/40000 [==============================] - 54s 1ms/step - loss: 0.3771 - acc: 0.8348\n",
      "Epoch 49/200\n",
      "40000/40000 [==============================] - 54s 1ms/step - loss: 0.3844 - acc: 0.8301\n",
      "Epoch 50/200\n",
      "40000/40000 [==============================] - 54s 1ms/step - loss: 0.3837 - acc: 0.8314\n",
      "Epoch 51/200\n",
      "40000/40000 [==============================] - 54s 1ms/step - loss: 0.3792 - acc: 0.8335\n",
      "Epoch 52/200\n",
      "40000/40000 [==============================] - 55s 1ms/step - loss: 0.3839 - acc: 0.8337\n",
      "Epoch 53/200\n",
      "40000/40000 [==============================] - 55s 1ms/step - loss: 0.3772 - acc: 0.8358\n",
      "Epoch 54/200\n",
      "40000/40000 [==============================] - 55s 1ms/step - loss: 0.3744 - acc: 0.8361\n",
      "Epoch 55/200\n",
      "40000/40000 [==============================] - 55s 1ms/step - loss: 0.3747 - acc: 0.8360\n",
      "Epoch 56/200\n",
      "40000/40000 [==============================] - 55s 1ms/step - loss: 0.3731 - acc: 0.8367\n",
      "Epoch 57/200\n",
      "40000/40000 [==============================] - 55s 1ms/step - loss: 0.3675 - acc: 0.8386\n",
      "Epoch 58/200\n",
      "40000/40000 [==============================] - 55s 1ms/step - loss: 0.3673 - acc: 0.8396\n",
      "Epoch 59/200\n",
      "40000/40000 [==============================] - 55s 1ms/step - loss: 0.3683 - acc: 0.8405\n",
      "Epoch 60/200\n",
      "40000/40000 [==============================] - 54s 1ms/step - loss: 0.3795 - acc: 0.8331\n",
      "Epoch 61/200\n",
      "40000/40000 [==============================] - 55s 1ms/step - loss: 0.3693 - acc: 0.8409\n",
      "Epoch 62/200\n",
      "40000/40000 [==============================] - 56s 1ms/step - loss: 0.3646 - acc: 0.8421\n",
      "Epoch 63/200\n",
      "40000/40000 [==============================] - 56s 1ms/step - loss: 0.3655 - acc: 0.8426\n",
      "Epoch 64/200\n",
      "40000/40000 [==============================] - 55s 1ms/step - loss: 0.3627 - acc: 0.8432\n",
      "Epoch 65/200\n",
      "40000/40000 [==============================] - 55s 1ms/step - loss: 0.3659 - acc: 0.8423\n",
      "Epoch 66/200\n",
      "40000/40000 [==============================] - 55s 1ms/step - loss: 0.3636 - acc: 0.8417\n",
      "Epoch 67/200\n",
      "40000/40000 [==============================] - 55s 1ms/step - loss: 0.3662 - acc: 0.8412\n",
      "Epoch 68/200\n",
      "40000/40000 [==============================] - 55s 1ms/step - loss: 0.3603 - acc: 0.8440\n",
      "Epoch 69/200\n",
      "40000/40000 [==============================] - 55s 1ms/step - loss: 0.3590 - acc: 0.8444\n",
      "Epoch 70/200\n",
      "40000/40000 [==============================] - 55s 1ms/step - loss: 0.3661 - acc: 0.8408\n",
      "Epoch 71/200\n",
      "40000/40000 [==============================] - 55s 1ms/step - loss: 0.3688 - acc: 0.8395\n",
      "Epoch 72/200\n",
      "40000/40000 [==============================] - 55s 1ms/step - loss: 0.3596 - acc: 0.8458\n",
      "Epoch 73/200\n",
      "40000/40000 [==============================] - 55s 1ms/step - loss: 0.3577 - acc: 0.8454\n",
      "Epoch 74/200\n",
      "40000/40000 [==============================] - 55s 1ms/step - loss: 0.3525 - acc: 0.8485\n",
      "Epoch 75/200\n",
      "40000/40000 [==============================] - 55s 1ms/step - loss: 0.3516 - acc: 0.8460\n",
      "Epoch 76/200\n",
      "40000/40000 [==============================] - 53s 1ms/step - loss: 0.3525 - acc: 0.8482\n",
      "Epoch 77/200\n",
      "40000/40000 [==============================] - 54s 1ms/step - loss: 0.3503 - acc: 0.8495\n",
      "Epoch 78/200\n",
      "40000/40000 [==============================] - 55s 1ms/step - loss: 0.3497 - acc: 0.8490\n",
      "Epoch 79/200\n",
      "40000/40000 [==============================] - 55s 1ms/step - loss: 0.3452 - acc: 0.8536\n",
      "Epoch 80/200\n",
      "40000/40000 [==============================] - 55s 1ms/step - loss: 0.3480 - acc: 0.8480\n",
      "Epoch 81/200\n",
      "40000/40000 [==============================] - 55s 1ms/step - loss: 0.3482 - acc: 0.8503\n",
      "Epoch 82/200\n",
      "40000/40000 [==============================] - 55s 1ms/step - loss: 0.3440 - acc: 0.8526\n",
      "Epoch 83/200\n",
      "40000/40000 [==============================] - 54s 1ms/step - loss: 0.3391 - acc: 0.8540\n",
      "Epoch 84/200\n",
      "40000/40000 [==============================] - 55s 1ms/step - loss: 0.3431 - acc: 0.8528\n",
      "Epoch 85/200\n",
      "40000/40000 [==============================] - 56s 1ms/step - loss: 0.3416 - acc: 0.8521\n",
      "Epoch 86/200\n",
      "40000/40000 [==============================] - 55s 1ms/step - loss: 0.3511 - acc: 0.8477\n",
      "Epoch 87/200\n",
      "40000/40000 [==============================] - 56s 1ms/step - loss: 0.3463 - acc: 0.8495\n",
      "Epoch 88/200\n",
      "40000/40000 [==============================] - 54s 1ms/step - loss: 0.3442 - acc: 0.8515\n",
      "Epoch 89/200\n",
      "40000/40000 [==============================] - 54s 1ms/step - loss: 0.3397 - acc: 0.8551\n",
      "Epoch 90/200\n",
      "40000/40000 [==============================] - 54s 1ms/step - loss: 0.3405 - acc: 0.8553\n",
      "Epoch 91/200\n",
      "40000/40000 [==============================] - 54s 1ms/step - loss: 0.3366 - acc: 0.8553\n",
      "Epoch 92/200\n",
      "40000/40000 [==============================] - 54s 1ms/step - loss: 0.3377 - acc: 0.8554\n",
      "Epoch 93/200\n",
      "40000/40000 [==============================] - 54s 1ms/step - loss: 0.3384 - acc: 0.8541\n",
      "Epoch 94/200\n",
      "40000/40000 [==============================] - 54s 1ms/step - loss: 0.3321 - acc: 0.8577\n",
      "Epoch 95/200\n",
      "40000/40000 [==============================] - 53s 1ms/step - loss: 0.3332 - acc: 0.8563\n",
      "Epoch 96/200\n",
      "40000/40000 [==============================] - 53s 1ms/step - loss: 0.3310 - acc: 0.8584\n",
      "Epoch 97/200\n",
      "40000/40000 [==============================] - 54s 1ms/step - loss: 0.3338 - acc: 0.8575\n",
      "Epoch 98/200\n",
      "40000/40000 [==============================] - 54s 1ms/step - loss: 0.3312 - acc: 0.8582\n",
      "Epoch 99/200\n",
      "40000/40000 [==============================] - 54s 1ms/step - loss: 0.3320 - acc: 0.8572\n",
      "Epoch 100/200\n",
      "40000/40000 [==============================] - 54s 1ms/step - loss: 0.3288 - acc: 0.8595\n",
      "Epoch 101/200\n",
      "40000/40000 [==============================] - 54s 1ms/step - loss: 0.3280 - acc: 0.8592\n",
      "Epoch 102/200\n",
      "40000/40000 [==============================] - 54s 1ms/step - loss: 0.3272 - acc: 0.8584\n",
      "Epoch 103/200\n",
      "40000/40000 [==============================] - 54s 1ms/step - loss: 0.3236 - acc: 0.8625\n",
      "Epoch 104/200\n",
      "40000/40000 [==============================] - 53s 1ms/step - loss: 0.3265 - acc: 0.8614\n",
      "Epoch 105/200\n",
      "40000/40000 [==============================] - 53s 1ms/step - loss: 0.3264 - acc: 0.8607\n",
      "Epoch 106/200\n",
      "40000/40000 [==============================] - 53s 1ms/step - loss: 0.3206 - acc: 0.8634\n",
      "Epoch 107/200\n",
      "40000/40000 [==============================] - 53s 1ms/step - loss: 0.3232 - acc: 0.8627\n",
      "Epoch 108/200\n",
      "40000/40000 [==============================] - 54s 1ms/step - loss: 0.3213 - acc: 0.8607\n",
      "Epoch 109/200\n",
      "40000/40000 [==============================] - 54s 1ms/step - loss: 0.3221 - acc: 0.8623\n",
      "Epoch 110/200\n",
      "40000/40000 [==============================] - 54s 1ms/step - loss: 0.3192 - acc: 0.8649\n",
      "Epoch 111/200\n",
      "40000/40000 [==============================] - 54s 1ms/step - loss: 0.3210 - acc: 0.8628\n",
      "Epoch 112/200\n",
      "40000/40000 [==============================] - 55s 1ms/step - loss: 0.3181 - acc: 0.8633\n",
      "Epoch 113/200\n",
      "40000/40000 [==============================] - 55s 1ms/step - loss: 0.3175 - acc: 0.8647\n",
      "Epoch 114/200\n",
      "40000/40000 [==============================] - 54s 1ms/step - loss: 0.3171 - acc: 0.8641\n",
      "Epoch 115/200\n",
      "40000/40000 [==============================] - 54s 1ms/step - loss: 0.3169 - acc: 0.8659\n",
      "Epoch 116/200\n",
      "40000/40000 [==============================] - 54s 1ms/step - loss: 0.3168 - acc: 0.8652\n",
      "Epoch 117/200\n",
      "40000/40000 [==============================] - 55s 1ms/step - loss: 0.3108 - acc: 0.8676\n",
      "Epoch 118/200\n",
      "40000/40000 [==============================] - 54s 1ms/step - loss: 0.3125 - acc: 0.8668\n",
      "Epoch 119/200\n",
      "40000/40000 [==============================] - 54s 1ms/step - loss: 0.3147 - acc: 0.8670\n",
      "Epoch 120/200\n",
      "40000/40000 [==============================] - 54s 1ms/step - loss: 0.3129 - acc: 0.8677\n",
      "Epoch 121/200\n",
      "40000/40000 [==============================] - 54s 1ms/step - loss: 0.3098 - acc: 0.8688\n",
      "Epoch 122/200\n",
      "40000/40000 [==============================] - 55s 1ms/step - loss: 0.3110 - acc: 0.8673\n",
      "Epoch 123/200\n",
      "40000/40000 [==============================] - 55s 1ms/step - loss: 0.3093 - acc: 0.8662\n",
      "Epoch 124/200\n",
      "40000/40000 [==============================] - 54s 1ms/step - loss: 0.3105 - acc: 0.8683\n",
      "Epoch 125/200\n",
      "40000/40000 [==============================] - 54s 1ms/step - loss: 0.3110 - acc: 0.8673\n",
      "Epoch 126/200\n",
      "40000/40000 [==============================] - 54s 1ms/step - loss: 0.3068 - acc: 0.8686\n",
      "Epoch 127/200\n",
      "40000/40000 [==============================] - 53s 1ms/step - loss: 0.3059 - acc: 0.8694\n",
      "Epoch 128/200\n",
      "40000/40000 [==============================] - 53s 1ms/step - loss: 0.3081 - acc: 0.8683\n",
      "Epoch 129/200\n",
      "40000/40000 [==============================] - 52s 1ms/step - loss: 0.3081 - acc: 0.8679\n",
      "Epoch 130/200\n",
      "40000/40000 [==============================] - 54s 1ms/step - loss: 0.3060 - acc: 0.8693\n",
      "Epoch 131/200\n",
      "40000/40000 [==============================] - 54s 1ms/step - loss: 0.3028 - acc: 0.8714\n",
      "Epoch 132/200\n",
      "40000/40000 [==============================] - 55s 1ms/step - loss: 0.3053 - acc: 0.8698\n",
      "Epoch 133/200\n",
      "40000/40000 [==============================] - 54s 1ms/step - loss: 0.3067 - acc: 0.8700\n",
      "Epoch 134/200\n",
      "40000/40000 [==============================] - 55s 1ms/step - loss: 0.3057 - acc: 0.8709\n",
      "Epoch 135/200\n",
      "40000/40000 [==============================] - 55s 1ms/step - loss: 0.3069 - acc: 0.8691\n",
      "Epoch 136/200\n",
      "40000/40000 [==============================] - 55s 1ms/step - loss: 0.3040 - acc: 0.8705\n",
      "Epoch 137/200\n",
      "40000/40000 [==============================] - 55s 1ms/step - loss: 0.2992 - acc: 0.8733\n",
      "Epoch 138/200\n",
      "40000/40000 [==============================] - 54s 1ms/step - loss: 0.3012 - acc: 0.8707\n",
      "Epoch 139/200\n",
      "40000/40000 [==============================] - 55s 1ms/step - loss: 0.3023 - acc: 0.8724\n",
      "Epoch 140/200\n",
      "40000/40000 [==============================] - 53s 1ms/step - loss: 0.3011 - acc: 0.8703\n",
      "Epoch 141/200\n",
      "40000/40000 [==============================] - 54s 1ms/step - loss: 0.3043 - acc: 0.8711\n",
      "Epoch 142/200\n",
      "40000/40000 [==============================] - 55s 1ms/step - loss: 0.3022 - acc: 0.8717\n",
      "Epoch 143/200\n",
      "40000/40000 [==============================] - 54s 1ms/step - loss: 0.2988 - acc: 0.8726\n",
      "Epoch 144/200\n",
      "40000/40000 [==============================] - 54s 1ms/step - loss: 0.2996 - acc: 0.8734\n",
      "Epoch 145/200\n",
      "40000/40000 [==============================] - 54s 1ms/step - loss: 0.2968 - acc: 0.8732\n",
      "Epoch 146/200\n",
      "40000/40000 [==============================] - 54s 1ms/step - loss: 0.2972 - acc: 0.8745\n",
      "Epoch 147/200\n",
      "40000/40000 [==============================] - 53s 1ms/step - loss: 0.3005 - acc: 0.8718\n",
      "Epoch 148/200\n",
      "40000/40000 [==============================] - 54s 1ms/step - loss: 0.2942 - acc: 0.8730\n",
      "Epoch 149/200\n",
      "40000/40000 [==============================] - 55s 1ms/step - loss: 0.2959 - acc: 0.8742\n",
      "Epoch 150/200\n",
      "40000/40000 [==============================] - 54s 1ms/step - loss: 0.2983 - acc: 0.8727\n",
      "Epoch 151/200\n",
      "40000/40000 [==============================] - 54s 1ms/step - loss: 0.2906 - acc: 0.8769\n",
      "Epoch 152/200\n",
      "40000/40000 [==============================] - 55s 1ms/step - loss: 0.2949 - acc: 0.8744\n",
      "Epoch 153/200\n",
      "40000/40000 [==============================] - 55s 1ms/step - loss: 0.2907 - acc: 0.8768\n",
      "Epoch 154/200\n",
      "40000/40000 [==============================] - 54s 1ms/step - loss: 0.2916 - acc: 0.8767\n",
      "Epoch 155/200\n",
      "40000/40000 [==============================] - 55s 1ms/step - loss: 0.2917 - acc: 0.8759\n",
      "Epoch 156/200\n",
      "40000/40000 [==============================] - 54s 1ms/step - loss: 0.2895 - acc: 0.8773\n",
      "Epoch 157/200\n",
      "40000/40000 [==============================] - 54s 1ms/step - loss: 0.2896 - acc: 0.8779\n",
      "Epoch 158/200\n",
      "40000/40000 [==============================] - 55s 1ms/step - loss: 0.2891 - acc: 0.8781\n",
      "Epoch 159/200\n",
      "40000/40000 [==============================] - 54s 1ms/step - loss: 0.2892 - acc: 0.8798\n",
      "Epoch 160/200\n",
      "40000/40000 [==============================] - 55s 1ms/step - loss: 0.2882 - acc: 0.8777\n",
      "Epoch 161/200\n",
      "40000/40000 [==============================] - 54s 1ms/step - loss: 0.2882 - acc: 0.8777\n",
      "Epoch 162/200\n",
      "40000/40000 [==============================] - 54s 1ms/step - loss: 0.2851 - acc: 0.8796\n",
      "Epoch 163/200\n",
      "40000/40000 [==============================] - 54s 1ms/step - loss: 0.2847 - acc: 0.8791\n",
      "Epoch 164/200\n",
      "40000/40000 [==============================] - 53s 1ms/step - loss: 0.2843 - acc: 0.8802\n",
      "Epoch 165/200\n",
      "40000/40000 [==============================] - 53s 1ms/step - loss: 0.2859 - acc: 0.8791\n",
      "Epoch 166/200\n",
      "40000/40000 [==============================] - 53s 1ms/step - loss: 0.2823 - acc: 0.8792\n",
      "Epoch 167/200\n",
      "40000/40000 [==============================] - 53s 1ms/step - loss: 0.2818 - acc: 0.8821\n",
      "Epoch 168/200\n",
      "40000/40000 [==============================] - 53s 1ms/step - loss: 0.2801 - acc: 0.8813\n",
      "Epoch 169/200\n",
      "40000/40000 [==============================] - 53s 1ms/step - loss: 0.2865 - acc: 0.8796\n",
      "Epoch 170/200\n",
      "40000/40000 [==============================] - 53s 1ms/step - loss: 0.2815 - acc: 0.8816\n",
      "Epoch 171/200\n",
      "40000/40000 [==============================] - 54s 1ms/step - loss: 0.2808 - acc: 0.8811\n",
      "Epoch 172/200\n",
      "40000/40000 [==============================] - 54s 1ms/step - loss: 0.2815 - acc: 0.8819\n",
      "Epoch 173/200\n",
      "40000/40000 [==============================] - 54s 1ms/step - loss: 0.2795 - acc: 0.8834\n",
      "Epoch 174/200\n",
      "40000/40000 [==============================] - 55s 1ms/step - loss: 0.2804 - acc: 0.8824\n",
      "Epoch 175/200\n",
      "40000/40000 [==============================] - 54s 1ms/step - loss: 0.2830 - acc: 0.8798\n",
      "Epoch 176/200\n",
      "40000/40000 [==============================] - 54s 1ms/step - loss: 0.2797 - acc: 0.8813\n",
      "Epoch 177/200\n",
      "40000/40000 [==============================] - 54s 1ms/step - loss: 0.2845 - acc: 0.8796\n",
      "Epoch 178/200\n",
      "40000/40000 [==============================] - 55s 1ms/step - loss: 0.2842 - acc: 0.8798\n",
      "Epoch 179/200\n",
      "40000/40000 [==============================] - 54s 1ms/step - loss: 0.2844 - acc: 0.8795\n",
      "Epoch 180/200\n",
      "40000/40000 [==============================] - 54s 1ms/step - loss: 0.2805 - acc: 0.8822\n",
      "Epoch 181/200\n",
      "40000/40000 [==============================] - 54s 1ms/step - loss: 0.2815 - acc: 0.8818\n",
      "Epoch 182/200\n",
      "40000/40000 [==============================] - 54s 1ms/step - loss: 0.2765 - acc: 0.8840\n",
      "Epoch 183/200\n",
      "40000/40000 [==============================] - 55s 1ms/step - loss: 0.2773 - acc: 0.8816\n",
      "Epoch 184/200\n",
      "40000/40000 [==============================] - 56s 1ms/step - loss: 0.2768 - acc: 0.8842\n",
      "Epoch 185/200\n",
      "40000/40000 [==============================] - 54s 1ms/step - loss: 0.2758 - acc: 0.8848\n",
      "Epoch 186/200\n",
      "40000/40000 [==============================] - 54s 1ms/step - loss: 0.2789 - acc: 0.8828\n",
      "Epoch 187/200\n",
      "40000/40000 [==============================] - 55s 1ms/step - loss: 0.2741 - acc: 0.8842\n",
      "Epoch 188/200\n",
      "40000/40000 [==============================] - 55s 1ms/step - loss: 0.2764 - acc: 0.8842\n",
      "Epoch 189/200\n",
      "40000/40000 [==============================] - 54s 1ms/step - loss: 0.2741 - acc: 0.8849\n",
      "Epoch 190/200\n",
      "40000/40000 [==============================] - 54s 1ms/step - loss: 0.2768 - acc: 0.8830\n",
      "Epoch 191/200\n",
      "40000/40000 [==============================] - 54s 1ms/step - loss: 0.2748 - acc: 0.8855\n",
      "Epoch 192/200\n",
      "40000/40000 [==============================] - 54s 1ms/step - loss: 0.2712 - acc: 0.8862\n",
      "Epoch 193/200\n",
      "40000/40000 [==============================] - 53s 1ms/step - loss: 0.2734 - acc: 0.8855\n",
      "Epoch 194/200\n",
      "40000/40000 [==============================] - 54s 1ms/step - loss: 0.2730 - acc: 0.8849\n",
      "Epoch 195/200\n",
      "40000/40000 [==============================] - 54s 1ms/step - loss: 0.2724 - acc: 0.8849\n",
      "Epoch 196/200\n",
      "40000/40000 [==============================] - 54s 1ms/step - loss: 0.2734 - acc: 0.8841\n",
      "Epoch 197/200\n",
      "40000/40000 [==============================] - 53s 1ms/step - loss: 0.2694 - acc: 0.8888\n",
      "Epoch 198/200\n",
      "40000/40000 [==============================] - 54s 1ms/step - loss: 0.2692 - acc: 0.8868\n",
      "Epoch 199/200\n",
      "40000/40000 [==============================] - 55s 1ms/step - loss: 0.2698 - acc: 0.8867\n",
      "Epoch 200/200\n",
      "40000/40000 [==============================] - 54s 1ms/step - loss: 0.2715 - acc: 0.8864\n"
     ]
    },
    {
     "data": {
      "image/png": "[encoded data removed]",
      "text/plain": [
       "<Figure size 432x288 with 1 Axes>"
      ]
     },
     "metadata": {
      "needs_background": "light",
      "tags": []
     },
     "output_type": "display_data"
    }
   ],
   "source": [
    "history = model.fit(x_train,y_train,epochs=200,batch_size=1024)\n",
    "pyplot.plot(history.history['loss'])\n",
    "pyplot.legend()\n",
    "pyplot.show()"
   ]
  },
  {
   "cell_type": "code",
   "execution_count": 10,
   "metadata": {
    "colab": {
     "base_uri": "https://localhost:8080/",
     "height": 266
    },
    "colab_type": "code",
    "id": "KhV-INlomkMX",
    "outputId": "4be54fe4-e6ab-453a-facd-84b3dc102377"
   },
   "outputs": [
    {
     "data": {
      "image/png": "[encoded data removed]",
      "text/plain": [
       "<Figure size 432x288 with 1 Axes>"
      ]
     },
     "metadata": {
      "needs_background": "light",
      "tags": []
     },
     "output_type": "display_data"
    }
   ],
   "source": [
    "pyplot.plot(history.history['acc'], label='train')\n",
    "pyplot.legend()\n",
    "pyplot.show()"
   ]
  },
  {
   "cell_type": "markdown",
   "metadata": {},
   "source": [
    "### Evaluating the performance of our trained model on test set"
   ]
  },
  {
   "cell_type": "code",
   "execution_count": 11,
   "metadata": {},
   "outputs": [
    {
     "name": "stdout",
     "output_type": "stream",
     "text": [
      "10000/10000 [==============================] - 21s 2ms/step\n",
      "Loss on test set : 0.23500430617332457\n",
      "Accuracy on test set : 0.90829998254776\n"
     ]
    }
   ],
   "source": [
    "loss,acc=model.evaluate(x_test,y_test)\n",
    "print('Loss on test set :',loss)\n",
    "print('Accuracy on test set :',acc)"
   ]
  },
  {
   "cell_type": "markdown",
   "metadata": {},
   "source": [
    "#### Evaluating performance on random tokens of data"
   ]
  },
  {
   "cell_type": "code",
   "execution_count": 12,
   "metadata": {
    "colab": {
     "base_uri": "https://localhost:8080/",
     "height": 36
    },
    "colab_type": "code",
    "id": "t8RbBWES3q_q",
    "outputId": "f5b37dd5-ce05-459a-939b-0b3aa3bb5462"
   },
   "outputs": [],
   "source": [
    "def demo(dem):\n",
    "    demo_s = tokenizer.texts_to_sequences(dem)\n",
    "    demo_s = np.array(demo_s)\n",
    "    demo_s = pad_sequences(demo_s, maxlen=250, padding=\"pre\", truncating=\"post\")\n",
    "    return model.predict(demo_s)"
   ]
  },
  {
   "cell_type": "code",
   "execution_count": 13,
   "metadata": {},
   "outputs": [
    {
     "data": {
      "text/plain": [
       "array([[0.9914539]], dtype=float32)"
      ]
     },
     "execution_count": 13,
     "metadata": {},
     "output_type": "execute_result"
    }
   ],
   "source": [
    "strn = ['it was a great movie with great story and awesome cast']\n",
    "demo(strn)"
   ]
  },
  {
   "cell_type": "markdown",
   "metadata": {},
   "source": [
    "### Saving our model"
   ]
  },
  {
   "cell_type": "code",
   "execution_count": 14,
   "metadata": {
    "colab": {},
    "colab_type": "code",
    "id": "SL4t9JKK5hyd"
   },
   "outputs": [],
   "source": [
    "model.save('model.h5')"
   ]
  }
 ],
 "metadata": {
  "accelerator": "GPU",
  "colab": {
   "collapsed_sections": [],
   "name": "Untitled5.ipynb",
   "provenance": []
  },
  "kernelspec": {
   "display_name": "Python 3",
   "language": "python",
   "name": "python3"
  },
  "language_info": {
   "codemirror_mode": {
    "name": "ipython",
    "version": 3
   },
   "file_extension": ".py",
   "mimetype": "text/x-python",
   "name": "python",
   "nbconvert_exporter": "python",
   "pygments_lexer": "ipython3",
   "version": "3.7.6"
  }
 },
 "nbformat": 4,
 "nbformat_minor": 1
}
